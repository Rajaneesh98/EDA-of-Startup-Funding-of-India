{
 "cells": [
  {
   "cell_type": "markdown",
   "metadata": {},
   "source": [
    "# Startup Funding Analysis"
   ]
  },
  {
   "cell_type": "markdown",
   "metadata": {},
   "source": [
    "### This dataset has funding information of the Indian startups from January 2015 to 2018/2019 . It includes columns with the date funded, the city the startup is based out of, the names of the funders, and the amount invested (in USD).\n",
    "\n",
    "### We are going to clean the data and try to some questions regarding the startup-ecosystem in India."
   ]
  },
  {
   "cell_type": "markdown",
   "metadata": {},
   "source": [
    "- Do cities play a major role in funding?\n",
    "- Which industries are favored by investors for funding?\n",
    "- Who are the important investors in the Indian Ecosystem?\n",
    "- How much funds does startups generally get in India?"
   ]
  },
  {
   "cell_type": "code",
   "execution_count": 1,
   "metadata": {},
   "outputs": [],
   "source": [
    "import numpy as np\n",
    "import pandas as pd\n",
    "import matplotlib.pyplot as plt\n",
    "import seaborn as sns\n",
    "import fuzzywuzzy\n",
    "from fuzzywuzzy import process\n",
    "import chardet\n",
    "import warnings\n",
    "color = sns.color_palette()"
   ]
  },
  {
   "cell_type": "code",
   "execution_count": 3,
   "metadata": {},
   "outputs": [],
   "source": [
    "start = pd.read_csv('startup_funding.csv',encoding='UTF-8-SIG')"
   ]
  },
  {
   "cell_type": "code",
   "execution_count": 121,
   "metadata": {},
   "outputs": [
    {
     "data": {
      "text/html": [
       "<div>\n",
       "<style scoped>\n",
       "    .dataframe tbody tr th:only-of-type {\n",
       "        vertical-align: middle;\n",
       "    }\n",
       "\n",
       "    .dataframe tbody tr th {\n",
       "        vertical-align: top;\n",
       "    }\n",
       "\n",
       "    .dataframe thead th {\n",
       "        text-align: right;\n",
       "    }\n",
       "</style>\n",
       "<table border=\"1\" class=\"dataframe\">\n",
       "  <thead>\n",
       "    <tr style=\"text-align: right;\">\n",
       "      <th></th>\n",
       "      <th>Date</th>\n",
       "      <th>Startup Name</th>\n",
       "      <th>Industry Vertical</th>\n",
       "      <th>SubVertical</th>\n",
       "      <th>City Location</th>\n",
       "      <th>Investors Name</th>\n",
       "      <th>Investment Type</th>\n",
       "      <th>Amount in USD</th>\n",
       "    </tr>\n",
       "  </thead>\n",
       "  <tbody>\n",
       "    <tr>\n",
       "      <th>0</th>\n",
       "      <td>2020-09-01</td>\n",
       "      <td>BYJU’S</td>\n",
       "      <td>e-tech</td>\n",
       "      <td>E-learning</td>\n",
       "      <td>bangalore</td>\n",
       "      <td>tiger global management</td>\n",
       "      <td>Private Equity Round</td>\n",
       "      <td>20,00,00,000</td>\n",
       "    </tr>\n",
       "    <tr>\n",
       "      <th>1</th>\n",
       "      <td>2020-01-13</td>\n",
       "      <td>Shuttl</td>\n",
       "      <td>transportation</td>\n",
       "      <td>App based shuttle service</td>\n",
       "      <td>gurgaon</td>\n",
       "      <td>susquehanna growth equity</td>\n",
       "      <td>Series C</td>\n",
       "      <td>80,48,394</td>\n",
       "    </tr>\n",
       "    <tr>\n",
       "      <th>2</th>\n",
       "      <td>2020-09-01</td>\n",
       "      <td>Mamaearth</td>\n",
       "      <td>e-commerce</td>\n",
       "      <td>Retailer of baby and toddler products</td>\n",
       "      <td>bangalore</td>\n",
       "      <td>sequoia capital india</td>\n",
       "      <td>Series B</td>\n",
       "      <td>1,83,58,860</td>\n",
       "    </tr>\n",
       "    <tr>\n",
       "      <th>3</th>\n",
       "      <td>2020-02-01</td>\n",
       "      <td>https://www.wealthbucket.in/</td>\n",
       "      <td>fintech</td>\n",
       "      <td>Online Investment</td>\n",
       "      <td>new delhi</td>\n",
       "      <td>vinod khatumal</td>\n",
       "      <td>Pre-series A</td>\n",
       "      <td>30,00,000</td>\n",
       "    </tr>\n",
       "    <tr>\n",
       "      <th>4</th>\n",
       "      <td>2020-02-01</td>\n",
       "      <td>Fashor</td>\n",
       "      <td>fashion and apparel</td>\n",
       "      <td>Embroiled Clothes For Women</td>\n",
       "      <td>mumbai</td>\n",
       "      <td>sprout venture partners</td>\n",
       "      <td>Seed Round</td>\n",
       "      <td>18,00,000</td>\n",
       "    </tr>\n",
       "  </tbody>\n",
       "</table>\n",
       "</div>"
      ],
      "text/plain": [
       "        Date                  Startup Name    Industry Vertical  \\\n",
       "0 2020-09-01                        BYJU’S               e-tech   \n",
       "1 2020-01-13                        Shuttl       transportation   \n",
       "2 2020-09-01                     Mamaearth           e-commerce   \n",
       "3 2020-02-01  https://www.wealthbucket.in/              fintech   \n",
       "4 2020-02-01                        Fashor  fashion and apparel   \n",
       "\n",
       "                             SubVertical City Location  \\\n",
       "0                             E-learning     bangalore   \n",
       "1              App based shuttle service       gurgaon   \n",
       "2  Retailer of baby and toddler products     bangalore   \n",
       "3                      Online Investment     new delhi   \n",
       "4            Embroiled Clothes For Women        mumbai   \n",
       "\n",
       "              Investors Name       Investment Type Amount in USD  \n",
       "0    tiger global management  Private Equity Round  20,00,00,000  \n",
       "1  susquehanna growth equity              Series C     80,48,394  \n",
       "2      sequoia capital india              Series B   1,83,58,860  \n",
       "3             vinod khatumal          Pre-series A     30,00,000  \n",
       "4    sprout venture partners            Seed Round     18,00,000  "
      ]
     },
     "execution_count": 121,
     "metadata": {},
     "output_type": "execute_result"
    }
   ],
   "source": [
    "start.head()"
   ]
  },
  {
   "cell_type": "code",
   "execution_count": 130,
   "metadata": {},
   "outputs": [
    {
     "name": "stdout",
     "output_type": "stream",
     "text": [
      "<class 'pandas.core.frame.DataFrame'>\n",
      "RangeIndex: 3044 entries, 0 to 3043\n",
      "Data columns (total 10 columns):\n",
      " #   Column             Non-Null Count  Dtype \n",
      "---  ------             --------------  ----- \n",
      " 0   Sr No              3044 non-null   int64 \n",
      " 1   Date               3044 non-null   object\n",
      " 2   Startup Name       3044 non-null   object\n",
      " 3   Industry Vertical  2873 non-null   object\n",
      " 4   SubVertical        2108 non-null   object\n",
      " 5   City  Location     2864 non-null   object\n",
      " 6   Investors Name     3020 non-null   object\n",
      " 7   InvestmentnType    3040 non-null   object\n",
      " 8   Amount in USD      2084 non-null   object\n",
      " 9   Remarks            419 non-null    object\n",
      "dtypes: int64(1), object(9)\n",
      "memory usage: 237.9+ KB\n"
     ]
    }
   ],
   "source": [
    "start.info()"
   ]
  },
  {
   "cell_type": "markdown",
   "metadata": {},
   "source": [
    "## Data Cleaning"
   ]
  },
  {
   "cell_type": "code",
   "execution_count": 5,
   "metadata": {
    "scrolled": true
   },
   "outputs": [
    {
     "data": {
      "text/plain": [
       "True     2625\n",
       "False     419\n",
       "Name: Remarks, dtype: int64"
      ]
     },
     "execution_count": 5,
     "metadata": {},
     "output_type": "execute_result"
    }
   ],
   "source": [
    "start.Remarks.isnull().value_counts()"
   ]
  },
  {
   "cell_type": "code",
   "execution_count": 6,
   "metadata": {},
   "outputs": [],
   "source": [
    "start.drop(['Remarks'], axis=1,inplace=True)"
   ]
  },
  {
   "cell_type": "code",
   "execution_count": 7,
   "metadata": {},
   "outputs": [],
   "source": [
    "start.drop(['Sr No'], axis=1,inplace=True)"
   ]
  },
  {
   "cell_type": "code",
   "execution_count": 8,
   "metadata": {},
   "outputs": [],
   "source": [
    "start.rename(columns={'Date dd/mm/yyyy':'Date'},inplace=True)\n",
    "start.rename(columns={'City  Location':'City Location'},inplace=True)\n",
    "start.rename(columns={'InvestmentnType':'Investment Type'},inplace=True)"
   ]
  },
  {
   "cell_type": "code",
   "execution_count": 9,
   "metadata": {},
   "outputs": [],
   "source": [
    "start.loc[192,'Date']='05/07/2018'\n",
    "start.loc[2571,'Date']='01/07/2015'\n",
    "start.loc[2606,'Date']='10/07/2015'\n",
    "start.loc[3029,'Date']='22/01/2015'\n",
    "start.loc[2775,'Date']='22/01/2015'\n",
    "start.loc[3029,'Date']='22/01/2015'"
   ]
  },
  {
   "cell_type": "code",
   "execution_count": 10,
   "metadata": {},
   "outputs": [],
   "source": [
    "start.Date=pd.to_datetime(start.Date,format='%d/%m/%Y',infer_datetime_format=True)"
   ]
  },
  {
   "cell_type": "markdown",
   "metadata": {},
   "source": [
    "**The Data cleaning is not fully done but will continue to do it as we try to answer some questions below.** "
   ]
  },
  {
   "cell_type": "markdown",
   "metadata": {},
   "source": [
    "## Do cities play a major role in funding?"
   ]
  },
  {
   "cell_type": "code",
   "execution_count": 12,
   "metadata": {},
   "outputs": [],
   "source": [
    "start['City Location']=start['City Location'].str.lower()\n",
    "start['City Location']=start['City Location'].str.strip()"
   ]
  },
  {
   "cell_type": "code",
   "execution_count": 19,
   "metadata": {},
   "outputs": [
    {
     "data": {
      "text/plain": [
       "array(['agra', 'ahemadabad', 'ahemdabad', 'ahmedabad', 'amritsar',\n",
       "       'andheri', 'bangalore', 'bangalore / palo alto',\n",
       "       'bangalore / san mateo', 'bangalore / sfo', 'bangalore / usa',\n",
       "       'bangalore/ bangkok', 'belgaum', 'bengaluru and gurugram',\n",
       "       'bhopal', 'bhubaneswar', 'bhubneswar', 'boston', 'burnsville',\n",
       "       'california', 'chandigarh', 'chembur', 'chennai',\n",
       "       'chennai/ singapore', 'coimbatore', 'dallas / hyderabad', 'delhi',\n",
       "       'delhi & cambridge', 'faridabad', 'gaya', 'goa', 'goa/hyderabad',\n",
       "       'gurgaon', 'gurgaon / sfo', 'gurugram', 'gwalior', 'haryana',\n",
       "       'hubli', 'hyderabad', 'hyderabad/usa', 'india', 'india / usa',\n",
       "       'india/singapore', 'indore', 'jaipur', 'jodhpur', 'kanpur',\n",
       "       'karnataka', 'karur', 'kerala', 'kochi', 'kolkata', 'kormangala',\n",
       "       'kozhikode', 'london', 'lucknow', 'menlo park', 'missourie',\n",
       "       'mumbai', 'mumbai / global', 'mumbai / ny', 'mumbai / uk',\n",
       "       'mumbai/bengaluru', 'nagpur', 'nairobi', 'new delhi',\n",
       "       'new delhi / california', 'new delhi / us', 'new delhi/ houston',\n",
       "       'new york', 'new york, bengaluru', 'new york/ india', 'noida',\n",
       "       'noida / singapore', 'nw delhi', 'palo alto', 'panaji', 'pune',\n",
       "       'pune / dubai', 'pune / singapore', 'pune / us', 'pune/seattle',\n",
       "       'rourkela', 'san francisco', 'san jose,', 'santa monica',\n",
       "       'seattle / bangalore', 'sfo / bangalore', 'siliguri', 'singapore',\n",
       "       'srinagar', 'surat', 'taramani', 'trivandrum', 'tulangan',\n",
       "       'udaipur', 'udupi', 'usa', 'uttar pradesh', 'vadodara', 'varanasi'],\n",
       "      dtype=object)"
      ]
     },
     "execution_count": 19,
     "metadata": {},
     "output_type": "execute_result"
    }
   ],
   "source": [
    "city=start['City Location'].dropna().unique()\n",
    "city.sort()\n",
    "city"
   ]
  },
  {
   "cell_type": "code",
   "execution_count": 17,
   "metadata": {},
   "outputs": [],
   "source": [
    "start.loc[start['City Location']=='\\\\\\\\xc2\\\\\\\\xa0bangalore','City Location']='bangalore'\n",
    "start.loc[start['City Location']=='\\\\\\\\xc2\\\\\\\\xa0gurgaon','City Location']='gurgaon'\n",
    "start.loc[start['City Location']=='\\\\\\\\xc2\\\\\\\\xa0mumbai','City Location']='mumbai'\n",
    "start.loc[start['City Location']=='\\\\\\\\xc2\\\\\\\\xa0new delhi','City Location']='new delhi'\n",
    "start.loc[start['City Location']=='\\\\\\\\xc2\\\\\\\\xa0noida','City Location']='noida'\n",
    "start.loc[start['City Location']=='kolkatta','City Location']  ='kolkata'\n",
    "start.loc[start['City Location']=='us','City Location']   ='usa'\n",
    "start.loc[start['City Location']=='india / us','City Location'] ='india / usa'\n",
    "start.loc[start['City Location']=='usa/india','City Location'] ='india / usa'\n",
    "start.loc[start['City Location']=='us/india','City Location'] ='india / usa'\n",
    "start.loc[start['City Location']=='india/us','City Location'] ='india / usa'\n",
    "start.loc[start['City Location']=='bengaluru','City Location'] ='bangalore'\n",
    "warnings.filterwarnings('ignore')"
   ]
  },
  {
   "cell_type": "code",
   "execution_count": 21,
   "metadata": {},
   "outputs": [],
   "source": [
    "location=start['City Location'].value_counts().head(15)"
   ]
  },
  {
   "cell_type": "code",
   "execution_count": 86,
   "metadata": {},
   "outputs": [
    {
     "data": {
      "image/png": "[encoded data removed]",
      "text/plain": [
       "<Figure size 864x432 with 1 Axes>"
      ]
     },
     "metadata": {},
     "output_type": "display_data"
    }
   ],
   "source": [
    "sns.set(font_scale=1.5) \n",
    "sns.set_style(\"whitegrid\")\n",
    "plt.figure(figsize=(12,6))\n",
    "plt.ylabel('Cities')\n",
    "plt.xlabel('Count')\n",
    "sns.barplot(location.values,location.index,  alpha=0.9);"
   ]
  },
  {
   "cell_type": "markdown",
   "metadata": {},
   "source": [
    "**We can see that Banglore, Mumbai, New Delhi, Gurgaon, Pune, Hyderabad are the major cities for start ups in india.**"
   ]
  },
  {
   "cell_type": "markdown",
   "metadata": {},
   "source": [
    "## Which industries are favored by investors for funding?"
   ]
  },
  {
   "cell_type": "code",
   "execution_count": 77,
   "metadata": {},
   "outputs": [],
   "source": [
    "start['Industry Vertical']=start['Industry Vertical'].str.lower()\n",
    "start['Industry Vertical']=start['Industry Vertical'].str.strip()\n",
    "ind=start['Industry Vertical'].dropna().unique()"
   ]
  },
  {
   "cell_type": "code",
   "execution_count": 79,
   "metadata": {
    "scrolled": true
   },
   "outputs": [
    {
     "data": {
      "text/plain": [
       "array(['360-degree view creating platform', '3d printer manufacturer',\n",
       "       'accounting', 'activity based social network',\n",
       "       'advertising & marketing community networking platform',\n",
       "       'advertising, marketing', 'aerospace', 'affordable education',\n",
       "       'affordable hotel booking online',\n",
       "       'affordable personal healthcare products', 'agriculture', 'agtech',\n",
       "       'ai', 'algorithmic match making platform',\n",
       "       'alternate mobile monetization platform',\n",
       "       'anonymous bulletin board app', 'api workflow platform',\n",
       "       'app analytics platform', 'app based bus pooling services',\n",
       "       'app based fitness coaching',\n",
       "       'app security\\\\\\\\xc2\\\\\\\\xa0 testing platform',\n",
       "       'architectural design & consulting', 'artificial intelligence',\n",
       "       'artificial intelligence ecommerce chatbot',\n",
       "       'artificial intelligence platform',\n",
       "       'artist / designer marketplace', 'asset financing platform',\n",
       "       'auto', 'auto insurance online platform',\n",
       "       'auto rickshaw based logistics'], dtype=object)"
      ]
     },
     "execution_count": 79,
     "metadata": {},
     "output_type": "execute_result"
    }
   ],
   "source": [
    "ind.sort()\n",
    "ind[:30]"
   ]
  },
  {
   "cell_type": "code",
   "execution_count": 76,
   "metadata": {},
   "outputs": [
    {
     "name": "stdout",
     "output_type": "stream",
     "text": [
      "casual dining restaurant chain\n",
      "contact center software platform\n",
      "fashion info aggregator app\n",
      "news aggregator mobile app\n",
      "online grocery delivery\n",
      "online jewellery store\n",
      "online study notes marketplace\n",
      "pre-school chain\n",
      "premium loyalty rewards point management\n",
      "warranty programs service administration\n"
     ]
    }
   ],
   "source": [
    "for i in range(2,12):\n",
    "    index=ind[i].find(\"0\")+1\n",
    "    print(ind[i][index:])\n",
    "    start.loc[start['Industry Vertical']==ind[i],'Industry Vertical']=ind[i][index:]"
   ]
  },
  {
   "cell_type": "code",
   "execution_count": 88,
   "metadata": {},
   "outputs": [],
   "source": [
    "ind=start['Industry Vertical'].value_counts().head(10)"
   ]
  },
  {
   "cell_type": "code",
   "execution_count": 89,
   "metadata": {},
   "outputs": [
    {
     "data": {
      "image/png": "[encoded data removed]",
      "text/plain": [
       "<Figure size 864x432 with 1 Axes>"
      ]
     },
     "metadata": {},
     "output_type": "display_data"
    }
   ],
   "source": [
    "sns.set(font_scale=1.5) \n",
    "sns.set_style(\"whitegrid\")\n",
    "plt.figure(figsize=(12,6))\n",
    "plt.ylabel('Industries')\n",
    "plt.xlabel('Count')\n",
    "sns.barplot(ind.values,ind.index,  alpha=0.9);"
   ]
  },
  {
   "cell_type": "markdown",
   "metadata": {},
   "source": [
    "**Industries like Consumer internet, Techonology, Ecommerce have the highest number of startups that are funded by Investers.**"
   ]
  },
  {
   "cell_type": "markdown",
   "metadata": {},
   "source": [
    "## Who are the important investors in the Indian Ecosystem?"
   ]
  },
  {
   "cell_type": "code",
   "execution_count": 100,
   "metadata": {},
   "outputs": [],
   "source": [
    "start['Investors Name']=start['Investors Name'].str.lower()\n",
    "start['Investors Name']=start['Investors Name'].str.strip()\n",
    "invest=start['Investors Name'].dropna().unique()"
   ]
  },
  {
   "cell_type": "code",
   "execution_count": 115,
   "metadata": {
    "scrolled": false
   },
   "outputs": [
    {
     "data": {
      "text/plain": [
       "undisclosed investors       120\n",
       "indian Angel Network         26\n",
       "ratan tata                   25\n",
       "group of angel investors     20\n",
       "kalaari capital              16\n",
       "sequoia capital              15\n",
       "accel partners               12\n",
       "saif partners                12\n",
       "brand capital                11\n",
       "undisclosed                  11\n",
       "venture catalysts            11\n",
       "roundglass partners          10\n",
       "info edge (india) ltd         9\n",
       "Name: Investors Name, dtype: int64"
      ]
     },
     "execution_count": 115,
     "metadata": {},
     "output_type": "execute_result"
    }
   ],
   "source": [
    "Investors=start['Investors Name'].value_counts().head(13)\n",
    "Investors"
   ]
  },
  {
   "cell_type": "code",
   "execution_count": 103,
   "metadata": {
    "scrolled": false
   },
   "outputs": [
    {
     "data": {
      "text/plain": [
       "[('kalaari capital', 100),\n",
       " ('kae capital', 77),\n",
       " ('sri capital', 77),\n",
       " ('kstart capital', 76),\n",
       " ('parampara capital', 75),\n",
       " ('gaja capital', 74),\n",
       " ('valiant capital', 73),\n",
       " ('tr capital', 72),\n",
       " ('k2 capital', 72),\n",
       " ('sarva capital', 71),\n",
       " ('sequoia and kalaari capital.', 71),\n",
       " ('purvi capital', 71),\n",
       " ('kalaari capital, udayan goyal', 70),\n",
       " ('leo capital', 69),\n",
       " ('lok capital', 69)]"
      ]
     },
     "execution_count": 103,
     "metadata": {},
     "output_type": "execute_result"
    }
   ],
   "source": [
    "matches = fuzzywuzzy.process.extract(\"kalaari capital\", invest, limit=15, scorer=fuzzywuzzy.fuzz.token_sort_ratio)\n",
    "matches"
   ]
  },
  {
   "cell_type": "code",
   "execution_count": 94,
   "metadata": {},
   "outputs": [],
   "source": [
    "def replace_matches_in_column(df, column, string_to_match, min_ratio = 47):\n",
    "    strings = df[column].unique()\n",
    "    \n",
    "    matches = fuzzywuzzy.process.extract(string_to_match, strings, \n",
    "                                         limit=15, scorer=fuzzywuzzy.fuzz.token_sort_ratio)\n",
    "\n",
    "    close_matches = [matches[0] for matches in matches if matches[1] >= min_ratio]\n",
    "\n",
    "    rows_with_matches = df[column].isin(close_matches)\n",
    " \n",
    "    df.loc[rows_with_matches, column] = string_to_match\n",
    "\n",
    "    print(\"All done!\")"
   ]
  },
  {
   "cell_type": "code",
   "execution_count": 104,
   "metadata": {},
   "outputs": [
    {
     "name": "stdout",
     "output_type": "stream",
     "text": [
      "All done!\n",
      "All done!\n",
      "All done!\n"
     ]
    }
   ],
   "source": [
    "replace_matches_in_column(df=start, column='Investors Name', string_to_match=\"undisclosed investors\",min_ratio=72)\n",
    "replace_matches_in_column(df=start, column='Investors Name', string_to_match=\"ratan tata\",min_ratio=90)\n",
    "replace_matches_in_column(df=start, column='Investors Name', string_to_match=\"indian Angel Network \",min_ratio=92)"
   ]
  },
  {
   "cell_type": "code",
   "execution_count": 116,
   "metadata": {},
   "outputs": [],
   "source": [
    "del Investors['undisclosed investors']\n",
    "del Investors['undisclosed']\n",
    "del Investors['group of angel investors']"
   ]
  },
  {
   "cell_type": "code",
   "execution_count": 117,
   "metadata": {},
   "outputs": [
    {
     "data": {
      "image/png": "[encoded data removed]",
      "text/plain": [
       "<Figure size 864x432 with 1 Axes>"
      ]
     },
     "metadata": {},
     "output_type": "display_data"
    }
   ],
   "source": [
    "sns.set(font_scale=1.5) \n",
    "sns.set_style(\"whitegrid\")\n",
    "plt.figure(figsize=(12,6))\n",
    "plt.ylabel('Industries')\n",
    "plt.xlabel('Count')\n",
    "sns.barplot(Investors.values,Investors.index,  alpha=0.9);"
   ]
  },
  {
   "cell_type": "markdown",
   "metadata": {},
   "source": [
    "**The major investors of indian startups are Indian Angel Network, Ratan Tata, Kalaari Capital.**"
   ]
  },
  {
   "cell_type": "markdown",
   "metadata": {},
   "source": [
    "## How much funds does startups generally get in India?"
   ]
  },
  {
   "cell_type": "code",
   "execution_count": 123,
   "metadata": {},
   "outputs": [],
   "source": [
    "start[\"Amount in USD\"] = start[\"Amount in USD\"].apply(lambda x: str(x).replace(\",\",\"\"))\n",
    "start[\"Amount in USD\"] = pd.to_numeric(start[\"Amount in USD\"],errors='coerce')"
   ]
  },
  {
   "cell_type": "code",
   "execution_count": 126,
   "metadata": {},
   "outputs": [
    {
     "name": "stdout",
     "output_type": "stream",
     "text": [
      "Indian startups Average funding is :  18429897.27080872\n"
     ]
    }
   ],
   "source": [
    "print(\"Indian startups Average funding is : \",start[\"Amount in USD\"].dropna().mean())"
   ]
  },
  {
   "cell_type": "code",
   "execution_count": 130,
   "metadata": {},
   "outputs": [
    {
     "data": {
      "text/plain": [
       "count    2.065000e+03\n",
       "mean     1.842990e+07\n",
       "std      1.213734e+08\n",
       "min      1.600000e+04\n",
       "25%      4.700000e+05\n",
       "50%      1.700000e+06\n",
       "75%      8.000000e+06\n",
       "max      3.900000e+09\n",
       "Name: Amount in USD, dtype: float64"
      ]
     },
     "metadata": {},
     "output_type": "display_data"
    }
   ],
   "source": [
    "start['Amount in USD'].dropna().describe()"
   ]
  },
  {
   "cell_type": "code",
   "execution_count": 154,
   "metadata": {
    "scrolled": true
   },
   "outputs": [
    {
     "data": {
      "text/html": [
       "<div>\n",
       "<style scoped>\n",
       "    .dataframe tbody tr th:only-of-type {\n",
       "        vertical-align: middle;\n",
       "    }\n",
       "\n",
       "    .dataframe tbody tr th {\n",
       "        vertical-align: top;\n",
       "    }\n",
       "\n",
       "    .dataframe thead th {\n",
       "        text-align: right;\n",
       "    }\n",
       "</style>\n",
       "<table border=\"1\" class=\"dataframe\">\n",
       "  <thead>\n",
       "    <tr style=\"text-align: right;\">\n",
       "      <th></th>\n",
       "      <th>Startup Name</th>\n",
       "      <th>Amount in USD</th>\n",
       "    </tr>\n",
       "  </thead>\n",
       "  <tbody>\n",
       "    <tr>\n",
       "      <th>3017</th>\n",
       "      <td>Hostel Dunia</td>\n",
       "      <td>16000.0</td>\n",
       "    </tr>\n",
       "    <tr>\n",
       "      <th>3018</th>\n",
       "      <td>Play your sport</td>\n",
       "      <td>16000.0</td>\n",
       "    </tr>\n",
       "    <tr>\n",
       "      <th>3019</th>\n",
       "      <td>Yo Grad</td>\n",
       "      <td>16000.0</td>\n",
       "    </tr>\n",
       "    <tr>\n",
       "      <th>3020</th>\n",
       "      <td>Enabli</td>\n",
       "      <td>16000.0</td>\n",
       "    </tr>\n",
       "    <tr>\n",
       "      <th>3021</th>\n",
       "      <td>CBS</td>\n",
       "      <td>16000.0</td>\n",
       "    </tr>\n",
       "  </tbody>\n",
       "</table>\n",
       "</div>"
      ],
      "text/plain": [
       "         Startup Name  Amount in USD\n",
       "3017     Hostel Dunia        16000.0\n",
       "3018  Play your sport        16000.0\n",
       "3019          Yo Grad        16000.0\n",
       "3020           Enabli        16000.0\n",
       "3021              CBS        16000.0"
      ]
     },
     "execution_count": 154,
     "metadata": {},
     "output_type": "execute_result"
    }
   ],
   "source": [
    "start.loc[start['Amount in USD']==start['Amount in USD'].min(),['Startup Name','Amount in USD']]"
   ]
  },
  {
   "cell_type": "code",
   "execution_count": 151,
   "metadata": {
    "scrolled": true
   },
   "outputs": [],
   "source": [
    "qw=start.groupby('Startup Name')['Amount in USD'].sum()"
   ]
  },
  {
   "cell_type": "code",
   "execution_count": 165,
   "metadata": {},
   "outputs": [
    {
     "data": {
      "text/plain": [
       "Startup Name\n",
       "Flipkart            4.059700e+09\n",
       "Rapido Bike Taxi    3.900000e+09\n",
       "Paytm               3.148950e+09\n",
       "Ola                 9.845000e+08\n",
       "Udaan               8.700000e+08\n",
       "Snapdeal            7.000000e+08\n",
       "Flipkart.com        7.000000e+08\n",
       "Ola Cabs            6.697000e+08\n",
       "True North          6.000000e+08\n",
       "BigBasket           5.070000e+08\n",
       "GOQii               4.500000e+08\n",
       "Zomato              4.350000e+08\n",
       "Name: Amount in USD, dtype: float64"
      ]
     },
     "metadata": {},
     "output_type": "display_data"
    }
   ],
   "source": [
    "qw.sort_values(ascending=False).head(12)"
   ]
  },
  {
   "cell_type": "markdown",
   "metadata": {},
   "source": [
    "**Startups like Flipkart,Rapido BIke taxi, Paytm, Ola got the highest amount of money**"
   ]
  },
  {
   "cell_type": "code",
   "execution_count": null,
   "metadata": {},
   "outputs": [],
   "source": []
  },
  {
   "cell_type": "code",
   "execution_count": null,
   "metadata": {},
   "outputs": [],
   "source": []
  }
 ],
 "metadata": {
  "kernelspec": {
   "display_name": "Python 3",
   "language": "python",
   "name": "python3"
  },
  "language_info": {
   "codemirror_mode": {
    "name": "ipython",
    "version": 3
   },
   "file_extension": ".py",
   "mimetype": "text/x-python",
   "name": "python",
   "nbconvert_exporter": "python",
   "pygments_lexer": "ipython3",
   "version": "3.6.5"
  }
 },
 "nbformat": 4,
 "nbformat_minor": 4
}
